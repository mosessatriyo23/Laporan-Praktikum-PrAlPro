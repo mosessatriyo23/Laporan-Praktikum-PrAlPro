{
 "cells": [
  {
   "cell_type": "code",
   "execution_count": 3,
   "id": "3b2661af-6246-4fec-8d52-51dd646dc85f",
   "metadata": {},
   "outputs": [
    {
     "name": "stdin",
     "output_type": "stream",
     "text": [
      "masukan angka:  21\n"
     ]
    },
    {
     "name": "stdout",
     "output_type": "stream",
     "text": [
      "bilangan prima terdekat kurang dari 21 adalah 19\n"
     ]
    }
   ],
   "source": [
    "def mbp(n):\n",
    "    if n <= 1:\n",
    "        return False \n",
    "    for i in range(2, int(n**0.5) + 1):\n",
    "        if n % i == 0:\n",
    "            return False\n",
    "    return True\n",
    "\n",
    "def mbpt(p):\n",
    "    if p <= 2:\n",
    "        return None\n",
    "    prima = None\n",
    "    for i in range(p-1, 1, -1):\n",
    "        if mbp(i):\n",
    "            prima = i\n",
    "            break\n",
    "    return prima\n",
    "\n",
    "p = int(input(\"masukan angka: \"))\n",
    "bpt = mbpt(p)\n",
    "\n",
    "if bpt != None:\n",
    "    print (f\"bilangan prima terdekat kurang dari {p} adalah {bpt}\")\n",
    "else:\n",
    "    print (f\"tidak ada bilangan prima terdekat kurang dari {p}\")"
   ]
  },
  {
   "cell_type": "code",
   "execution_count": 8,
   "id": "870568ab-6884-49fb-852b-d8cca75f9585",
   "metadata": {},
   "outputs": [
    {
     "name": "stdin",
     "output_type": "stream",
     "text": [
      "masukan bilangan=  1\n"
     ]
    },
    {
     "name": "stdout",
     "output_type": "stream",
     "text": [
      "1 1 \n"
     ]
    }
   ],
   "source": [
    "def kali (hasil):\n",
    "    if hasil == 0 or hasil == 1:\n",
    "        return 1\n",
    "    else: \n",
    "        return hasil * kali (hasil - 1)\n",
    "    \n",
    "def deret(p):\n",
    "    for i in range(p, 0, -1):\n",
    "        print(kali(i), end=\" \")\n",
    "        for j in range(i, 0, -1):\n",
    "            print(j, end=\" \")\n",
    "        print()\n",
    "\n",
    "p = int(input(\"masukan bilangan= \"))\n",
    "deret(p)"
   ]
  },
  {
   "cell_type": "code",
   "execution_count": 15,
   "id": "c782f047-5980-46c0-a15c-4554c3d46c5e",
   "metadata": {},
   "outputs": [
    {
     "name": "stdin",
     "output_type": "stream",
     "text": [
      "masukan lebar=  5\n",
      "masukan tinggi=  4\n"
     ]
    },
    {
     "name": "stdout",
     "output_type": "stream",
     "text": [
      "1 2 3 4 5 \n",
      "6 7 8 9 10 \n",
      "11 12 13 14 15 \n",
      "16 17 18 19 20 \n",
      "None\n"
     ]
    }
   ],
   "source": [
    "def deret(lebar, tinggi):\n",
    "    mulai = 1\n",
    "    for i in range(tinggi):\n",
    "        for j in range(lebar):\n",
    "            print(mulai, end=\" \")\n",
    "            mulai += 1\n",
    "        print()\n",
    "\n",
    "lebar = int(input(\"masukan lebar= \"))\n",
    "tinggi = int(input(\"masukan tinggi= \"))\n",
    "\n",
    "print(deret(lebar, tinggi))"
   ]
  },
  {
   "cell_type": "code",
   "execution_count": null,
   "id": "02c667ac-843c-4226-8a31-21a1c8d72c12",
   "metadata": {},
   "outputs": [],
   "source": []
  }
 ],
 "metadata": {
  "kernelspec": {
   "display_name": "Python 3 (ipykernel)",
   "language": "python",
   "name": "python3"
  },
  "language_info": {
   "codemirror_mode": {
    "name": "ipython",
    "version": 3
   },
   "file_extension": ".py",
   "mimetype": "text/x-python",
   "name": "python",
   "nbconvert_exporter": "python",
   "pygments_lexer": "ipython3",
   "version": "3.11.7"
  }
 },
 "nbformat": 4,
 "nbformat_minor": 5
}
