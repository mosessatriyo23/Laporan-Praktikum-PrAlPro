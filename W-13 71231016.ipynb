{
 "cells": [
  {
   "cell_type": "code",
   "execution_count": 3,
   "metadata": {},
   "outputs": [
    {
     "name": "stdout",
     "output_type": "stream",
     "text": [
      "Masukkan 5 nama aplikasi dikategori 'Editing':\n",
      "Masukkan 5 nama aplikasi dikategori 'Utilities':\n",
      "Masukkan 5 nama aplikasi dikategori 'Study':\n",
      "\n",
      "Daftar nama aplikasi di setiap kategori:\n",
      "Editing: Photos, Lightroom, Photoshop, Snapseed, Capcut\n",
      "Utilities: Photos, Setting, Camera, Maps, GPS\n",
      "Study: Classroom, Google Meet, Zoom, Brainly, Camera\n",
      "aplikasi yang muncul disemua kategori: set()\n",
      "{'GPS', 'Google Meet', 'Brainly', 'Setting', 'Classroom', 'Maps', 'Zoom'}\n",
      "Aplikasi yang hanya muncul di satu kategori saja: {'GPS', 'Google Meet', 'Brainly', 'Setting', 'Classroom', 'Maps', 'Zoom'}\n",
      "Aplikasi yang muncul tepat di dua kategori: {'Camera', 'Photos'}\n"
     ]
    }
   ],
   "source": [
    "n = int(input('Masukkan jumlah kategori: '))\n",
    "kumpulanaplikasi = {}\n",
    "for i in range(n):\n",
    "    category = input(f\"Masukkan nama kategori yang ke{i+1}: \")\n",
    "    aplikasi = []\n",
    "    print(f\"Masukkan 5 nama aplikasi dikategori '{category}':\")\n",
    "    for j in range(5):\n",
    "        nama_aplikasi = input(f\"Aplikasi yang ke{j+1}: \")\n",
    "        aplikasi.append(nama_aplikasi)\n",
    "    kumpulanaplikasi[category] = aplikasi\n",
    "    \n",
    "print(\"\\nDaftar nama aplikasi di setiap kategori:\")\n",
    "for kategori, aplikasi in kumpulanaplikasi.items():\n",
    "    print(f\"{kategori}: {', '.join(aplikasi)}\")\n",
    "\n",
    "daftar_aplikasi_list = []\n",
    "\n",
    "for aplikasi in kumpulanaplikasi.values():\n",
    "    daftar_aplikasi_list.append(set(aplikasi))\n",
    "\n",
    "\n",
    "hasil = daftar_aplikasi_list[0]\n",
    "for i in range(1, len(daftar_aplikasi_list)):\n",
    "    hasil = hasil&daftar_aplikasi_list[i]\n",
    "print(f\"aplikasi yang muncul disemua kategori: {hasil}\")\n",
    "\n",
    "hasil2 = daftar_aplikasi_list[0]\n",
    "for i in range(1, len(daftar_aplikasi_list)):\n",
    "    hasil2 = hasil2^daftar_aplikasi_list[i]\n",
    "\n",
    "anu = daftar_aplikasi_list[0]\n",
    "for i in range(1,len(daftar_aplikasi_list)):\n",
    "    anu.update(anu&daftar_aplikasi_list[i])\n",
    "for i in anu:\n",
    "    if i in hasil2:\n",
    "        hasil2.remove(i)\n",
    "print(hasil2)\n",
    "\n",
    "print(\"Aplikasi yang hanya muncul di satu kategori saja:\", hasil2)\n",
    "\n",
    "apl = list()\n",
    "dua_kategori=set()\n",
    "\n",
    "if n > 2:\n",
    "    for i in kumpulanaplikasi.values():\n",
    "        apl+=i\n",
    "    for i in apl:\n",
    "        if apl.count(i)==2:\n",
    "            dua_kategori.add(i)\n",
    "    print(\"Aplikasi yang muncul tepat di dua kategori:\", dua_kategori)"
   ]
  },
  {
   "cell_type": "code",
   "execution_count": 7,
   "metadata": {},
   "outputs": [
    {
     "name": "stdout",
     "output_type": "stream",
     "text": [
      "list sebelum di konversi : [6, 5, 5, 4, 3, 2, 1]\n",
      "list setelah di konversi menjadi set: {1, 2, 3, 4, 5, 6}\n",
      "set sebelum di konversi : {1, 2, 3, 4, 5, 6}\n",
      "set setelah di konversi menjadi list : {1, 2, 3, 4, 5, 6}\n",
      "tuple sebelum di konversi : [4, 1, 3, 2, 6, 5, 5]\n",
      "tuple setelah di konversi menjadi set: {1, 2, 3, 4, 5, 6}\n",
      "set sebelum di konversi : {1, 2, 3, 4, 5, 6}\n",
      "tuple setelah di konversi menjadi tuple : (1, 2, 3, 4, 5, 6)\n"
     ]
    }
   ],
   "source": [
    "def nuker():\n",
    "    listnya = [6, 5, 5, 4, 3, 2, 1]\n",
    "    print(f'list sebelum di konversi : {listnya}')\n",
    "    setnya = set(listnya)\n",
    "    print(f'list setelah di konversi menjadi set: {setnya}')\n",
    "    print(f'set sebelum di konversi : {setnya}')\n",
    "    listke2 = set(setnya)\n",
    "    print(f'set setelah di konversi menjadi list : {listke2}')\n",
    "\n",
    "    tuplenya = [4, 1, 3, 2, 6, 5, 5]\n",
    "    print(f\"tuple sebelum di konversi : {tuplenya}\")\n",
    "    setke2 = set(tuplenya)\n",
    "    print(f\"tuple setelah di konversi menjadi set: {setke2}\")\n",
    "    print(f'set sebelum di konversi : {setke2}')\n",
    "    tupleke2 = tuple(setke2)\n",
    "    print(f\"tuple setelah di konversi menjadi tuple : {tupleke2}\")\n",
    "nuker()"
   ]
  },
  {
   "cell_type": "code",
   "execution_count": 2,
   "metadata": {},
   "outputs": [
    {
     "name": "stdout",
     "output_type": "stream",
     "text": [
      "kata sama adalah: \n",
      "aja\n",
      "berak\n",
      "kalo\n"
     ]
    }
   ],
   "source": [
    "def menyamakanteks(namafile):\n",
    "    try:\n",
    "        with open(namafile, 'r', encoding='UTF-8') as file:\n",
    "            return file.read().lower().split()\n",
    "    except FileNotFoundError:\n",
    "        print(f\"file {namafile} tidak ditemukan\")\n",
    "        return[]\n",
    "\n",
    "def main():\n",
    "    filepertama = input('masukan file pertama = ')\n",
    "    filekedua = input('masukan file kedua = ')\n",
    "    bacafile1 = menyamakanteks(filepertama)\n",
    "    bacafile2 = menyamakanteks(filekedua)\n",
    "    kata_sama = set(bacafile1) & (set(bacafile2))\n",
    "    if kata_sama:\n",
    "        print (\"kata yang sama: \")\n",
    "        for i in sorted(kata_sama):\n",
    "            print(i)\n",
    "    else:\n",
    "        ('tidak ada kata yang sama')\n",
    "if __name__ == '__main__':\n",
    "    main()"
   ]
  }
 ],
 "metadata": {
  "kernelspec": {
   "display_name": "Python 3.11.7 ('base')",
   "language": "python",
   "name": "python3"
  },
  "language_info": {
   "codemirror_mode": {
    "name": "ipython",
    "version": 3
   },
   "file_extension": ".py",
   "mimetype": "text/x-python",
   "name": "python",
   "nbconvert_exporter": "python",
   "pygments_lexer": "ipython3",
   "version": "3.11.7"
  },
  "vscode": {
   "interpreter": {
    "hash": "9c1d5a056f04d97314a9f946bc8c5185004572d3d68312220c0ba298420421f7"
   }
  }
 },
 "nbformat": 4,
 "nbformat_minor": 2
}
