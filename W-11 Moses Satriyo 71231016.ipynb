{
 "cells": [
  {
   "cell_type": "code",
   "execution_count": 11,
   "metadata": {},
   "outputs": [
    {
     "name": "stdout",
     "output_type": "stream",
     "text": [
      "key    value   item\n",
      "6\t60\t6\n",
      "4\t40\t4\n",
      "1\t10\t1\n",
      "2\t20\t2\n",
      "5\t50\t5\n",
      "3\t30\t3\n"
     ]
    }
   ],
   "source": [
    "dictionary = {6: 60, 4: 40, 1: 10, 2: 20, 5: 50, 3: 30}\n",
    "\n",
    "print(\"key\", \"   value\", \"  item\")\n",
    "for key in dictionary:\n",
    "    value = dictionary[key]\n",
    "    print(key, value, key, sep='\\t')"
   ]
  },
  {
   "cell_type": "code",
   "execution_count": 13,
   "metadata": {},
   "outputs": [
    {
     "name": "stdout",
     "output_type": "stream",
     "text": [
      "{'red': '#FF0000', 'green': '#008000', 'blue': '#0000FF'}\n"
     ]
    }
   ],
   "source": [
    "def masuk_dict(lista, listb):\n",
    "    return dict(zip(lista, listb))\n",
    "\n",
    "lista = ['red', 'green', 'blue']\n",
    "listb = ['#FF0000', '#008000', '#0000FF']\n",
    "\n",
    "hasil = masuk_dict(lista, listb)\n",
    "\n",
    "print(hasil)"
   ]
  },
  {
   "cell_type": "code",
   "execution_count": 15,
   "metadata": {},
   "outputs": [
    {
     "name": "stdout",
     "output_type": "stream",
     "text": [
      "{'stephen.marquard@uct.ac.za': 29, 'louis@media.berkeley.edu': 24, 'zqian@umich.edu': 195, 'rjlowe@iupui.edu': 90, 'cwen@iupui.edu': 158, 'gsilver@umich.edu': 28, 'wagnermr@iupui.edu': 44, 'antranig@caret.cam.ac.uk': 18, 'gopal.ramasammycook@gmail.com': 25, 'david.horwitz@uct.ac.za': 67, 'ray@media.berkeley.edu': 32, 'mmmay@indiana.edu': 161, 'stuart.freeman@et.gatech.edu': 17, 'tnguyen@iupui.edu': 6, 'chmaurer@iupui.edu': 111, 'aaronz@vt.edu': 110, 'ian@caret.cam.ac.uk': 96, 'csev@umich.edu': 19, 'jimeng@umich.edu': 93, 'josrodri@iupui.edu': 28, 'knoop@umich.edu': 5, 'bkirschn@umich.edu': 27, 'dlhaines@umich.edu': 84, 'hu2@iupui.edu': 7, 'sgithens@caret.cam.ac.uk': 43, 'arwhyte@umich.edu': 27, 'gbhatnag@umich.edu': 3, 'gjthomas@iupui.edu': 44, 'a.fish@lancaster.ac.uk': 14, 'ajpoland@iupui.edu': 48, 'lance@indiana.edu': 8, 'ssmail@indiana.edu': 5, 'jlrenfro@ucdavis.edu': 1, 'nuno@ufp.pt': 28, 'zach.thomas@txstate.edu': 17, 'ktsao@stanford.edu': 12, 'ostermmg@whitman.edu': 17, 'john.ellis@rsmart.com': 8, 'jleasia@umich.edu': 2, 'ggolden@umich.edu': 8, 'thoppaymallika@fhda.edu': 1, 'kimsooil@bu.edu': 14, 'bahollad@indiana.edu': 4, 'jzaremba@unicon.net': 9, 'mbreuker@loi.nl': 9, 'colin.clark@utoronto.ca': 1}\n"
     ]
    }
   ],
   "source": [
    "nama_file = \"mbox-short.txt\"\n",
    "file = open('mbox-short.txt', 'r')\n",
    "\n",
    "hitung_email = {}\n",
    "for i in file:\n",
    "    if i.startswith('From '):\n",
    "        jumlah = i.split()\n",
    "        email = jumlah[1]\n",
    "        hitung_email[email] = hitung_email.get(email, 0) + 1\n",
    "file.close()\n",
    "\n",
    "print(hitung_email)"
   ]
  },
  {
   "cell_type": "code",
   "execution_count": 1,
   "metadata": {},
   "outputs": [
    {
     "name": "stdout",
     "output_type": "stream",
     "text": [
      "{'uct.ac.za': 96, 'media.berkeley.edu': 56, 'umich.edu': 491, 'iupui.edu': 536, 'caret.cam.ac.uk': 157, 'gmail.com': 25, 'indiana.edu': 178, 'et.gatech.edu': 17, 'vt.edu': 110, 'lancaster.ac.uk': 14, 'ucdavis.edu': 1, 'ufp.pt': 28, 'txstate.edu': 17, 'stanford.edu': 12, 'whitman.edu': 17, 'rsmart.com': 8, 'fhda.edu': 1, 'bu.edu': 14, 'unicon.net': 9, 'loi.nl': 9, 'utoronto.ca': 1}\n"
     ]
    }
   ],
   "source": [
    "nama_file = \"mbox-short.txt\"\n",
    "file = open('mbox-short.txt', 'r')\n",
    "\n",
    "hitung_email = {}\n",
    "for i in file:\n",
    "    if i.startswith('From '):\n",
    "        jumlah = i.split()\n",
    "        email = jumlah[1]\n",
    "        email_masuk = email.find('@')\n",
    "        hasil = email[email_masuk + 1:]\n",
    "        hitung_email[hasil] = hitung_email.get(hasil, 0)+1\n",
    "file.close()\n",
    "\n",
    "print(hitung_email)"
   ]
  }
 ],
 "metadata": {
  "kernelspec": {
   "display_name": "Python 3.11.7 ('base')",
   "language": "python",
   "name": "python3"
  },
  "language_info": {
   "codemirror_mode": {
    "name": "ipython",
    "version": 3
   },
   "file_extension": ".py",
   "mimetype": "text/x-python",
   "name": "python",
   "nbconvert_exporter": "python",
   "pygments_lexer": "ipython3",
   "version": "3.11.7"
  },
  "vscode": {
   "interpreter": {
    "hash": "9c1d5a056f04d97314a9f946bc8c5185004572d3d68312220c0ba298420421f7"
   }
  }
 },
 "nbformat": 4,
 "nbformat_minor": 2
}
