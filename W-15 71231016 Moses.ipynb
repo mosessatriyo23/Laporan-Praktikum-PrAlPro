{
 "cells": [
  {
   "cell_type": "code",
   "execution_count": 10,
   "metadata": {},
   "outputs": [
    {
     "name": "stdout",
     "output_type": "stream",
     "text": [
      "17-08-1945 selisihnya adalah 28783 hari\n",
      "11-11-1785 selisihnya adalah 87135 hari\n",
      "08-06-1783 selisihnya adalah 88022 hari\n",
      "02-05-1889 selisihnya adalah 49343 hari\n"
     ]
    }
   ],
   "source": [
    "import re\n",
    "from datetime import datetime, date\n",
    "\n",
    "kalimat = \"Pada tanggal 1945-08-17 Indonesia merdeka. Indonesia memiliki beberapa pahlawan nasional, seperti Pangeran Diponegoro (TL: 1785-11-11), Pattimura (TL: 1783-06-08) dan Ki Hajar Dewantara (1889-05-02).\"\n",
    "\n",
    "timeline = re.findall(r'\\b(\\d{4}-\\d{2}-\\d{2})\\b', kalimat)\n",
    "\n",
    "hasil = []\n",
    "for tanggal in timeline:\n",
    "    tanggal_objek = datetime.strptime(tanggal, '%Y-%m-%d')\n",
    "\n",
    "    tanggal_string = tanggal_objek.strftime('%d-%m-%Y')\n",
    "    \n",
    "    selisih = (date.today() - tanggal_objek.date()).days\n",
    "\n",
    "    hasil.append(f'{tanggal_string} selisihnya adalah {selisih} hari')\n",
    "\n",
    "for output in hasil:\n",
    "    print(output)"
   ]
  },
  {
   "cell_type": "code",
   "execution_count": 8,
   "metadata": {},
   "outputs": [
    {
     "name": "stdout",
     "output_type": "stream",
     "text": [
      "anton@mail.com username: anton , password: SG80ALLy\n",
      "budi@gmail.co.id username: budi , password: BauyiINy\n",
      "slamet@getnada.com username: slamet , password: HOfriyIK\n",
      "matahari@tokopedia.com username: matahari , password: k57BOPvP\n"
     ]
    }
   ],
   "source": [
    "import re\n",
    "import random\n",
    "import string\n",
    "\n",
    "\n",
    "info = \"\"\"\n",
    "Berikut adalah daftar email dan nama pengguna dari mailing list:\n",
    "anton@mail.com dimiliki oleh antonius\n",
    "budi@gmail.co.id dimiliki oleh budi anwari\n",
    "slamet@getnada.com dimiliki oleh slamet slumut\n",
    "matahari@tokopedia.com dimiliki oleh toko matahari\n",
    "\"\"\"\n",
    "\n",
    "gmail = re.findall(r'\\b[A-Za-z0-9._%+-]+@[A-Za-z0-9.-]+\\.[A-Z|a-z]{2,}\\b', info)\n",
    "\n",
    "output = []\n",
    "for i in gmail:\n",
    "    username = i.split('@')[0]\n",
    "    password = ''.join(random.choice(string.ascii_letters + string.digits) for _ in range(8))\n",
    "    output.append(f\"{i} username: {username} , password: {password}\")\n",
    "\n",
    "for j in output:\n",
    "    print(j)"
   ]
  }
 ],
 "metadata": {
  "kernelspec": {
   "display_name": "Python 3.11.7 ('base')",
   "language": "python",
   "name": "python3"
  },
  "language_info": {
   "codemirror_mode": {
    "name": "ipython",
    "version": 3
   },
   "file_extension": ".py",
   "mimetype": "text/x-python",
   "name": "python",
   "nbconvert_exporter": "python",
   "pygments_lexer": "ipython3",
   "version": "3.11.7"
  },
  "orig_nbformat": 4,
  "vscode": {
   "interpreter": {
    "hash": "9c1d5a056f04d97314a9f946bc8c5185004572d3d68312220c0ba298420421f7"
   }
  }
 },
 "nbformat": 4,
 "nbformat_minor": 2
}
