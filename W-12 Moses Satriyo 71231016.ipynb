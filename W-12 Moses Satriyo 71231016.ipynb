{
 "cells": [
  {
   "cell_type": "code",
   "execution_count": 9,
   "metadata": {},
   "outputs": [
    {
     "name": "stdout",
     "output_type": "stream",
     "text": [
      "True\n",
      "False\n"
     ]
    }
   ],
   "source": [
    "def kesamaan(tup):\n",
    "    return tup.count(tup[0]) == len(tup)\n",
    "\n",
    "tup1 = (90,90,90,90)\n",
    "print(kesamaan(tup1))\n",
    "tup2 = (91,90,93,90)\n",
    "print(kesamaan(tup2))"
   ]
  },
  {
   "cell_type": "code",
   "execution_count": 11,
   "metadata": {},
   "outputs": [
    {
     "name": "stdout",
     "output_type": "stream",
     "text": [
      "Data    : ('Moses Satriyo Gentur Pinandhito', '71231016', 'Sleman, DI Yogyakarta')\n",
      "NIM     : 71231016\n",
      "NAMA    : Moses Satriyo Gentur Pinandhito\n",
      "ALAMAT  : Sleman, DI Yogyakarta\n",
      "NIM: ('7', '1', '2', '3', '1', '0', '1', '6')\n",
      "NAMA DEPAN: ('M', 'o', 's', 'e', 's')\n",
      "NAMA TERBALIK: ('Pinandhito', 'Gentur', 'Satriyo', 'Moses')\n"
     ]
    }
   ],
   "source": [
    "def portofolio(data):\n",
    "    nama_lengkap = data[0]\n",
    "    nim = data[1]\n",
    "    alamat = data[2]\n",
    "    nama = [i.split()[0] for i in data]\n",
    "    nama_terbalik = tuple(nama_lengkap.split()[::-1])    \n",
    "    print(\"Data    :\", data)\n",
    "    print(\"NIM     :\", nim)\n",
    "    print(\"NAMA    :\", nama_lengkap)\n",
    "    print(\"ALAMAT  :\", alamat)\n",
    "    print(\"NIM:\", tuple(nim))\n",
    "    print(\"NAMA DEPAN:\", tuple(nama[0]))\n",
    "    print(\"NAMA TERBALIK:\", nama_terbalik)\n",
    "\n",
    "data_diri = ('Moses Satriyo Gentur Pinandhito', '71231016', 'Sleman, DI Yogyakarta')\n",
    "portofolio(data_diri)"
   ]
  },
  {
   "cell_type": "code",
   "execution_count": 16,
   "metadata": {},
   "outputs": [
    {
     "name": "stdout",
     "output_type": "stream",
     "text": [
      "04 3\n",
      "06 1\n",
      "07 1\n",
      "09 2\n",
      "10 3\n",
      "11 6\n",
      "14 1\n",
      "15 2\n",
      "16 4\n",
      "17 2\n",
      "18 1\n",
      "19 1\n"
     ]
    }
   ],
   "source": [
    "def distribusi_jam(file_name):\n",
    "    try:\n",
    "        with open(file_name) as file:\n",
    "            jam_data = dict()\n",
    "            for i in file:\n",
    "                if i.startswith('From '):\n",
    "                    kata = i.split()\n",
    "                    jam = kata[5].split(':')[0]\n",
    "                    jam_data[jam] = jam_data.get(jam, 0) + 1\n",
    "            for jam in sorted(jam_data.keys()):\n",
    "                print(jam, jam_data[jam])\n",
    "    except FileNotFoundError:\n",
    "        print(\"File tidak ditemukan.\")\n",
    "\n",
    "nama_file = input(\"Masukkan nama file: \")\n",
    "distribusi_jam(nama_file)"
   ]
  }
 ],
 "metadata": {
  "kernelspec": {
   "display_name": "Python 3.11.7 ('base')",
   "language": "python",
   "name": "python3"
  },
  "language_info": {
   "codemirror_mode": {
    "name": "ipython",
    "version": 3
   },
   "file_extension": ".py",
   "mimetype": "text/x-python",
   "name": "python",
   "nbconvert_exporter": "python",
   "pygments_lexer": "ipython3",
   "version": "3.11.7"
  },
  "vscode": {
   "interpreter": {
    "hash": "9c1d5a056f04d97314a9f946bc8c5185004572d3d68312220c0ba298420421f7"
   }
  }
 },
 "nbformat": 4,
 "nbformat_minor": 2
}
