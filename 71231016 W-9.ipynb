{
 "cells": [
  {
   "cell_type": "code",
   "execution_count": 2,
   "metadata": {},
   "outputs": [
    {
     "name": "stdout",
     "output_type": "stream",
     "text": [
      "3 nilai terbaik:  [95, 91, 88]\n"
     ]
    }
   ],
   "source": [
    "nilai = [50, 40, 75, 39, 81, 95, 88, 91, 83]\n",
    "urutan = sorted(nilai, reverse=True)\n",
    "nilaiterbaik = urutan[:3]\n",
    "\n",
    "print(\"3 nilai terbaik: \", nilaiterbaik)"
   ]
  },
  {
   "cell_type": "code",
   "execution_count": 7,
   "metadata": {},
   "outputs": [
    {
     "name": "stdout",
     "output_type": "stream",
     "text": [
      "==================================================== ISI BERITA ====================================================\n",
      "Judul: \"Perkembangan Teknologi Kecerdasan Buatan: Menyongsong Era Baru\"\n",
      "Pendahuluan:\n",
      "Dalam beberapa tahun terakhir, perkembangan teknologi kecerdasan buatan (AI) telah mengalami lonjakan pesat yang mengubah lanskap industri, masyarakat, dan bahkan kehidupan sehari-hari kita. Dari penggunaan AI dalam pengolahan data hingga implementasinya dalam kendaraan otonom dan asisten virtual, dampaknya sangatlah luas.\n",
      "\n",
      "================================================ KATA UNIK DALAM FILE ===============================================\n",
      "['Judul:', '\"Perkembangan', 'Teknologi', 'Kecerdasan', 'Buatan:', 'Menyongsong', 'Era', 'Baru\"']\n",
      "['Pendahuluan:']\n",
      "['Dalam', 'beberapa', 'tahun', 'terakhir,', 'perkembangan', 'teknologi', 'kecerdasan', 'buatan', '(AI)', 'telah', 'mengalami', 'lonjakan', 'pesat', 'yang', 'mengubah', 'lanskap', 'industri,', 'masyarakat,', 'dan', 'bahkan', 'kehidupan', 'sehari-hari', 'kita.', 'Dari', 'penggunaan', 'AI', 'dalam', 'pengolahan', 'data', 'hingga', 'implementasinya', 'dalam', 'kendaraan', 'otonom', 'dan', 'asisten', 'virtual,', 'dampaknya', 'sangatlah', 'luas.']\n"
     ]
    }
   ],
   "source": [
    "def kataunik(file):\n",
    "    kata_unik = []\n",
    "    try:\n",
    "        with open(file, 'r') as bukafile:\n",
    "            isifile = bukafile.read()\n",
    "            print (\"==================================================== ISI BERITA ====================================================\")\n",
    "            print(isifile)\n",
    "        with open(file, 'r') as bukafile:\n",
    "            for line in bukafile:\n",
    "                kata = line.strip().split()\n",
    "                kata_unik.append(kata)\n",
    "    except FileNotFoundError:\n",
    "        print('file tidak ditemukan')\n",
    "    return kata_unik\n",
    "def main():\n",
    "    file = 'berita.txt'\n",
    "    kata_unik = kataunik(file)\n",
    "    print(\"================================================ KATA UNIK DALAM FILE ===============================================\")\n",
    "    for kata in kata_unik:\n",
    "        print(kata)\n",
    "if __name__ == '__main__':\n",
    "    main()"
   ]
  },
  {
   "cell_type": "code",
   "execution_count": 1,
   "metadata": {},
   "outputs": [
    {
     "name": "stdout",
     "output_type": "stream",
     "text": [
      "nilai maksimum: 78\n",
      "nilai minimum: 34\n"
     ]
    }
   ],
   "source": [
    "list=[]\n",
    "y=False\n",
    "while y == False:\n",
    "    angka=input(\"masukkan angka: \")\n",
    "    if angka == \"done\":\n",
    "        y=True\n",
    "        print(f\"nilai maksimum: {max(list)}\")\n",
    "        print(f\"nilai minimum: {min(list)}\")\n",
    "    else:\n",
    "        r=int(angka)\n",
    "        list.append(r)"
   ]
  }
 ],
 "metadata": {
  "kernelspec": {
   "display_name": "Python 3.11.7 ('base')",
   "language": "python",
   "name": "python3"
  },
  "language_info": {
   "codemirror_mode": {
    "name": "ipython",
    "version": 3
   },
   "file_extension": ".py",
   "mimetype": "text/x-python",
   "name": "python",
   "nbconvert_exporter": "python",
   "pygments_lexer": "ipython3",
   "version": "3.11.7"
  },
  "vscode": {
   "interpreter": {
    "hash": "9c1d5a056f04d97314a9f946bc8c5185004572d3d68312220c0ba298420421f7"
   }
  }
 },
 "nbformat": 4,
 "nbformat_minor": 2
}
