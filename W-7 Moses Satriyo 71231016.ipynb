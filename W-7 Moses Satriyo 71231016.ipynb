{
 "cells": [
  {
   "cell_type": "code",
   "execution_count": 1,
   "id": "22ed7a97-0464-49a6-bb47-d7f85f9fa6d1",
   "metadata": {},
   "outputs": [
    {
     "name": "stdin",
     "output_type": "stream",
     "text": [
      "masukan kata 1 = program\n",
      "masukan kata 2 = energi\n"
     ]
    },
    {
     "name": "stdout",
     "output_type": "stream",
     "text": [
      "kata1 = program, kata2 = energi bukan anagram\n"
     ]
    }
   ],
   "source": [
    "def anagram(kata1, kata2):\n",
    "    kata1 = kata1.lower()\n",
    "    kata2 = kata2.lower()\n",
    "\n",
    "    mengurutkan1 = sorted(kata1)\n",
    "    mengurutkan2 = sorted(kata2)\n",
    "\n",
    "    return mengurutkan1 == mengurutkan2\n",
    "\n",
    "def main():\n",
    "    kata1 = str(input(\"masukan kata 1 =\"))\n",
    "    kata2 = str(input(\"masukan kata 2 =\"))\n",
    "\n",
    "    if anagram(kata1, kata2):\n",
    "        print(f\"kata1 = {kata1}, kata2 = {kata2} adalah anagram\")\n",
    "    else:\n",
    "        print(f\"kata1 = {kata1}, kata2 = {kata2} bukan anagram\")\n",
    "\n",
    "\n",
    "if __name__ == \"__main__\":\n",
    "    main()"
   ]
  },
  {
   "cell_type": "code",
   "execution_count": 3,
   "id": "f8c03813-a8d0-4936-b9f4-16ab6c312e30",
   "metadata": {},
   "outputs": [
    {
     "name": "stdin",
     "output_type": "stream",
     "text": [
      "masukan kalimat=  saya tidak suka banyak berbicara tidak penting\n",
      "masukan kata=  tidak\n"
     ]
    },
    {
     "name": "stdout",
     "output_type": "stream",
     "text": [
      "kata = 'tidak' muncul sebanyak 2 buah di kalimat = saya tidak suka banyak berbicara tidak penting\n"
     ]
    }
   ],
   "source": [
    "def mencarikata(kalimat, kata):\n",
    "    kalimat = kalimat.lower()\n",
    "    kata = kata.lower()\n",
    "\n",
    "    kemunculan = 0\n",
    "    kdk = kalimat.split()\n",
    "    for kk in kdk:\n",
    "        if kk == kata:\n",
    "            kemunculan += 1\n",
    "    return kemunculan\n",
    "\n",
    "def main():\n",
    "    kalimat = str(input(\"masukan kalimat= \"))\n",
    "    kata = str(input(\"masukan kata= \"))\n",
    "\n",
    "    jumlah = mencarikata(kalimat, kata)\n",
    "    if jumlah > 0:\n",
    "        print(f\"kata = '{kata}' muncul sebanyak {jumlah} buah di kalimat = {kalimat}\")\n",
    "    elif jumlah <= 0:\n",
    "        print(f\"kata = '{kata}' tidak ada dalam kalimat = '{kalimat}' \")\n",
    "\n",
    "\n",
    "if __name__ == \"__main__\":\n",
    "    main()"
   ]
  },
  {
   "cell_type": "code",
   "execution_count": 5,
   "id": "934f865d-142e-476a-98ae-e1da8989062f",
   "metadata": {},
   "outputs": [
    {
     "name": "stdin",
     "output_type": "stream",
     "text": [
      "masukan suatu kalimat=  dimana      saya  berada\n"
     ]
    },
    {
     "name": "stdout",
     "output_type": "stream",
     "text": [
      " 'dimana      saya  berada' setelah dihapus spasi berlebih='dimana saya berada' \n"
     ]
    }
   ],
   "source": [
    "def hsb(kalimat):\n",
    "    kalimat_split = kalimat.split()\n",
    "    kalimat_normal = \" \".join(kalimat_split)\n",
    "    return kalimat_normal\n",
    "\n",
    "def main():\n",
    "    kalimat = str(input(\"masukan suatu kalimat= \"))\n",
    "    hasil = hsb(kalimat)\n",
    "    \n",
    "    print(f\" '{kalimat}' setelah dihapus spasi berlebih='{hasil}' \")\n",
    "\n",
    "if __name__ == \"__main__\":\n",
    "    main()"
   ]
  },
  {
   "cell_type": "code",
   "execution_count": 6,
   "id": "946fb683-e30e-4819-8a94-ea230f00d03e",
   "metadata": {},
   "outputs": [
    {
     "name": "stdin",
     "output_type": "stream",
     "text": [
      "masukan suatu kalimat=  kata kata nya maszehhh\n"
     ]
    },
    {
     "name": "stdout",
     "output_type": "stream",
     "text": [
      "dari kalimat = 'kata kata nya maszehhh', kata terpendek = 'nya', terpanjang = 'maszehhh' \n"
     ]
    }
   ],
   "source": [
    "def panjang_pendek(kalimat):\n",
    "    kata = kalimat.split()\n",
    "\n",
    "    terpendek = kata[0]\n",
    "    terpanjang = kata[0]\n",
    "\n",
    "    for i in kata:\n",
    "        if len(i) < len(terpendek):\n",
    "            terpendek = i\n",
    "        elif len(i) > len(terpanjang):  \n",
    "            terpanjang = i\n",
    "    \n",
    "    return terpendek, terpanjang\n",
    "\n",
    "def main():\n",
    "    kalimat = str(input('masukan suatu kalimat= '))\n",
    "    terpendek, terpanjang = panjang_pendek(kalimat)\n",
    "    print(f\"dari kalimat = '{kalimat}', kata terpendek = '{terpendek}', terpanjang = '{terpanjang}' \")\n",
    "\n",
    "if __name__==\"__main__\":\n",
    "    main()"
   ]
  },
  {
   "cell_type": "code",
   "execution_count": null,
   "id": "532f5552-654b-4b78-9cdd-26ca3a1da032",
   "metadata": {},
   "outputs": [],
   "source": []
  }
 ],
 "metadata": {
  "kernelspec": {
   "display_name": "Python 3 (ipykernel)",
   "language": "python",
   "name": "python3"
  },
  "language_info": {
   "codemirror_mode": {
    "name": "ipython",
    "version": 3
   },
   "file_extension": ".py",
   "mimetype": "text/x-python",
   "name": "python",
   "nbconvert_exporter": "python",
   "pygments_lexer": "ipython3",
   "version": "3.11.7"
  }
 },
 "nbformat": 4,
 "nbformat_minor": 5
}
