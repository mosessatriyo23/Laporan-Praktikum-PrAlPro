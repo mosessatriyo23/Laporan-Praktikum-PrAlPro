{
 "cells": [
  {
   "cell_type": "code",
   "execution_count": 1,
   "metadata": {},
   "outputs": [
    {
     "name": "stdout",
     "output_type": "stream",
     "text": [
      "HAHAH\n",
      "SAMA\n",
      "NGGA\n",
      "YAA\n",
      "SIAPA\n",
      "YANG\n",
      "BILANG\n",
      "SAMA\n",
      "\n",
      "Tidak ditemukan perbedaan kedua Filenya.\n"
     ]
    }
   ],
   "source": [
    "file_1=open('File_1.txt')\n",
    "file_2=open('File_2.txt')\n",
    "hasil_1=file_1.read()\n",
    "hasil_2=file_2.read()\n",
    "\n",
    "print (hasil_1)\n",
    "print (hasil_2)\n",
    "\n",
    "ada_perbedaan=[]\n",
    "for i, (hasil_1, hasil_2) in enumerate(zip(hasil_1, hasil_2)):\n",
    "        if hasil_1 != hasil_2:\n",
    "            perbedaan=True\n",
    "\n",
    "if ada_perbedaan:\n",
    "    print(\"Terdapat perbedaan keduanya.\")\n",
    "else:\n",
    "    print(\"Tidak ditemukan perbedaan kedua Filenya.\")"
   ]
  },
  {
   "cell_type": "code",
   "execution_count": 4,
   "metadata": {},
   "outputs": [
    {
     "name": "stdout",
     "output_type": "stream",
     "text": [
      "nama file1:  Soal.txt\n",
      "1+1 =\n",
      "Jawaban benar!\n",
      "\n",
      "Bendera Indonesia?\n",
      "Jawaban salah!\n",
      "\n",
      "Kota gudeg adalah:\n",
      "Jawaban salah!\n",
      "\n",
      "KomponenPC untuk penyimpanan file adalah...\n",
      "Jawaban benar!\n",
      "\n",
      "50 *20 =\n",
      "Jawaban benar!\n",
      "\n"
     ]
    }
   ],
   "source": [
    "namafile = 'Soal.txt'\n",
    "\n",
    "file = open(namafile, 'r')\n",
    "print ('nama file1: ', namafile)\n",
    "\n",
    "for line in file:\n",
    "    pertanyaan, jawaban = line.strip().split('||')\n",
    "    pertanyaan = pertanyaan.strip()\n",
    "    jawaban = jawaban.strip()\n",
    "    print(pertanyaan)\n",
    "    jawabanpengguna = input ('Jawab: ').strip()\n",
    "    if jawabanpengguna.lower() == jawaban.lower():\n",
    "        print('Jawaban benar!')\n",
    "    else:\n",
    "        print('Jawaban salah!')\n",
    "    print()"
   ]
  }
 ],
 "metadata": {
  "kernelspec": {
   "display_name": "Python 3.11.7 ('base')",
   "language": "python",
   "name": "python3"
  },
  "language_info": {
   "codemirror_mode": {
    "name": "ipython",
    "version": 3
   },
   "file_extension": ".py",
   "mimetype": "text/x-python",
   "name": "python",
   "nbconvert_exporter": "python",
   "pygments_lexer": "ipython3",
   "version": "3.11.7"
  },
  "orig_nbformat": 4,
  "vscode": {
   "interpreter": {
    "hash": "9c1d5a056f04d97314a9f946bc8c5185004572d3d68312220c0ba298420421f7"
   }
  }
 },
 "nbformat": 4,
 "nbformat_minor": 2
}
