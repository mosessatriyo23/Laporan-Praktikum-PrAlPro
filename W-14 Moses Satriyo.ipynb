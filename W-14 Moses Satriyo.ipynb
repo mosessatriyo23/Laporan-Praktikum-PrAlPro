{
 "cells": [
  {
   "cell_type": "code",
   "execution_count": 1,
   "metadata": {},
   "outputs": [
    {
     "name": "stdout",
     "output_type": "stream",
     "text": [
      "angka: 11\n",
      "prima\n"
     ]
    }
   ],
   "source": [
    "def cekprima(n, i=2):\n",
    "    if n <= 1:\n",
    "        return False\n",
    "    if n <= 3:\n",
    "        return True\n",
    "    if n % i == 0:\n",
    "        return False\n",
    "    else:\n",
    "        return True\n",
    "    cekprima(n, i + 1)\n",
    "\n",
    "masukangka = int(input(\"Masukkan angka: \"))\n",
    "if cekprima(masukangka,2):\n",
    "    print(f\"angka: {masukangka}\\nprima\")\n",
    "else:\n",
    "    print(f\"angka: {masukangka}\\nbukan prima\")"
   ]
  },
  {
   "cell_type": "code",
   "execution_count": 3,
   "metadata": {},
   "outputs": [
    {
     "name": "stdout",
     "output_type": "stream",
     "text": [
      "kalimat:kasurrusak\n",
      "palindrome\n"
     ]
    }
   ],
   "source": [
    "def testpalindrome(s, i, j):\n",
    "    if i >= j:\n",
    "        return True\n",
    "    if s[i] != s[j]:\n",
    "        return False\n",
    "    return testpalindrome(s, i + 1, j - 1)\n",
    "\n",
    "kalimat = str(input('Masukkan kalimat : '))\n",
    "\n",
    "if testpalindrome(kalimat, 0, len(kalimat) - 1):\n",
    "    print(f\"kalimat:{kalimat}\\npalindrome\")\n",
    "else:\n",
    "    print(f\"kalimat:{kalimat}\\nbukan palindrome\")"
   ]
  },
  {
   "cell_type": "code",
   "execution_count": 6,
   "metadata": {},
   "outputs": [
    {
     "name": "stdout",
     "output_type": "stream",
     "text": [
      "angka:7\n",
      "hasil:16\n"
     ]
    }
   ],
   "source": [
    "def hitungderetganjil(i,n,x):\n",
    "    if n<i:\n",
    "        print(f\"angka:{p}\\nhasil:{x}\")\n",
    "        return \n",
    "    hitungderetganjil(i+2,n,x+i)\n",
    "p=int(input(\"input angka : \"))\n",
    "hitungderetganjil(1,p,0)"
   ]
  },
  {
   "cell_type": "code",
   "execution_count": 8,
   "metadata": {},
   "outputs": [
    {
     "name": "stdout",
     "output_type": "stream",
     "text": [
      "bilangan:6969\n",
      "hasil:30\n"
     ]
    }
   ],
   "source": [
    "def jumlahdigit(s,i):\n",
    "    if i == len(s):\n",
    "        return 0\n",
    "    jumlahsekarang = int(s[i]) if s[i].isdigit() else 0\n",
    "    return jumlahsekarang + jumlahdigit(s, i + 1)\n",
    "\n",
    "inpt = str(input(\"input bilangan: \"))\n",
    "\n",
    "hasil = jumlahdigit(inpt,0)\n",
    "\n",
    "print(f\"bilangan:{inpt}\\nhasil:{hasil}\")"
   ]
  },
  {
   "cell_type": "code",
   "execution_count": 10,
   "metadata": {},
   "outputs": [
    {
     "name": "stdout",
     "output_type": "stream",
     "text": [
      "C(8, 2) = 28\n"
     ]
    }
   ],
   "source": [
    "def hitungkombinasi(n, r):\n",
    "    if r == 0 or r == n:\n",
    "        return 1\n",
    "    elif n<r:\n",
    "        return\n",
    "    return hitungkombinasi(n - 1, r - 1) + hitungkombinasi(n - 1, r)\n",
    "\n",
    "nilai_x = int(input(\"Masukkan nilai n: \"))\n",
    "nilai_y = int(input(\"Masukkan nilai r: \"))\n",
    "if hitungkombinasi(nilai_x,nilai_y)==None:\n",
    "    print(\"error, mohon ikuti aturan n>r\")\n",
    "else:\n",
    "    print(f\"C({nilai_x}, {nilai_y}) = {hitungkombinasi(nilai_x, nilai_y)}\")"
   ]
  }
 ],
 "metadata": {
  "kernelspec": {
   "display_name": "Python 3.11.7 ('base')",
   "language": "python",
   "name": "python3"
  },
  "language_info": {
   "codemirror_mode": {
    "name": "ipython",
    "version": 3
   },
   "file_extension": ".py",
   "mimetype": "text/x-python",
   "name": "python",
   "nbconvert_exporter": "python",
   "pygments_lexer": "ipython3",
   "version": "3.11.7"
  },
  "orig_nbformat": 4,
  "vscode": {
   "interpreter": {
    "hash": "9c1d5a056f04d97314a9f946bc8c5185004572d3d68312220c0ba298420421f7"
   }
  }
 },
 "nbformat": 4,
 "nbformat_minor": 2
}
